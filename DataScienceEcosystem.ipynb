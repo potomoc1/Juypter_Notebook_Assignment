{
 "cells": [
  {
   "cell_type": "markdown",
   "id": "134bc34e-65d4-4559-9657-ad9aa6bde524",
   "metadata": {},
   "source": [
    "# Data Science Tools and Ecosystem"
   ]
  },
  {
   "cell_type": "markdown",
   "id": "cbd83a7e-9b81-4b79-af13-beddf4b4cb8d",
   "metadata": {},
   "source": [
    "# In this notebook Data Science Tools and Ecosystem are summarized."
   ]
  },
  {
   "cell_type": "markdown",
   "id": "4b26142a-8c7b-4927-82dc-cf511e2e8f11",
   "metadata": {},
   "source": [
    "# Some of the popular languages that Data Scientists use are:\n",
    "1. Python\n",
    "2. R\n",
    "3. SQL\n",
    "4. Scala\n",
    "5. Java\n",
    "6. C++"
   ]
  },
  {
   "cell_type": "markdown",
   "id": "ce61722d-b057-4f76-872c-d13b0863fe24",
   "metadata": {},
   "source": [
    "# Some of the commonly used libraries used by Data Scientists include:\n",
    "1. Pandas\n",
    "2. NumPy\n",
    "3. Matplotlib\n",
    "4. Seaborn\n",
    "5. Sci-Kit Learn\n",
    "6. TensorFlow\n",
    "7. PyTorch"
   ]
  },
  {
   "cell_type": "markdown",
   "id": "01c980f3-6737-481c-8938-17ed89c81114",
   "metadata": {},
   "source": [
    "# Three Development Environment Open Source Tools Used in Data Science:\n",
    "|Data Science Tools|\n",
    "|-------------------|\n",
    "|Anaconda|\n",
    "|Jupyter|\n",
    "|Visual Studio Code|"
   ]
  },
  {
   "cell_type": "markdown",
   "id": "3b48e919-42e1-435c-9b5b-7833ef481bf4",
   "metadata": {},
   "source": [
    "### Below are a few examples of evaluating arithmetic expressions in Python\n",
    "2+5"
   ]
  },
  {
   "cell_type": "markdown",
   "id": "19d31384-6a11-4321-8e7a-59483ac6e8ad",
   "metadata": {},
   "source": [
    "8-7"
   ]
  },
  {
   "cell_type": "code",
   "execution_count": 3,
   "id": "7f957d3f-56c2-4dc6-8ebc-4e9133c26488",
   "metadata": {},
   "outputs": [
    {
     "data": {
      "text/plain": [
       "17"
      ]
     },
     "execution_count": 3,
     "metadata": {},
     "output_type": "execute_result"
    }
   ],
   "source": [
    "# This is a simple arithemetic expression to multiply then add integers:\n",
    "(3*4)+5"
   ]
  },
  {
   "cell_type": "code",
   "execution_count": 5,
   "id": "f9e335e2-03d1-4b25-aad7-fa8704ab9b94",
   "metadata": {},
   "outputs": [
    {
     "name": "stdout",
     "output_type": "stream",
     "text": [
      "200 minutes is approximately 3.3333333333333335 hours.\n"
     ]
    }
   ],
   "source": [
    "# This will convert 200 minutes to hours by dividing by 60\n",
    "# Given Minutes\n",
    "minutes = 200\n",
    "\n",
    "# Convert Minutes to Hours\n",
    "hours = minutes/60\n",
    "\n",
    "# Display the Result\n",
    "print(f\"{minutes} minutes is approximately {hours} hours.\")"
   ]
  },
  {
   "cell_type": "markdown",
   "id": "ad4a566e-1513-4d38-b298-289ac93fa483",
   "metadata": {},
   "source": [
    "# In this Notebook, Data Science Tools and Ecosystems are summarized\n",
    "*Objectives*\n",
    "- Tools for data science\n",
    "- Popular languages for data science\n",
    "- Network data structures\n",
    "- Data sets"
   ]
  },
  {
   "cell_type": "markdown",
   "id": "240fad7a-9d25-4ca2-85f4-a6b7afdf059f",
   "metadata": {},
   "source": [
    "## Author\n",
    "Joseph Aranha"
   ]
  }
 ],
 "metadata": {
  "kernelspec": {
   "display_name": "Python 3 (ipykernel)",
   "language": "python",
   "name": "python3"
  },
  "language_info": {
   "codemirror_mode": {
    "name": "ipython",
    "version": 3
   },
   "file_extension": ".py",
   "mimetype": "text/x-python",
   "name": "python",
   "nbconvert_exporter": "python",
   "pygments_lexer": "ipython3",
   "version": "3.11.7"
  }
 },
 "nbformat": 4,
 "nbformat_minor": 5
}
